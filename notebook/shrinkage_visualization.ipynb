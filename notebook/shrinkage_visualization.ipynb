{
 "cells": [
  {
   "cell_type": "code",
   "execution_count": 1,
   "metadata": {},
   "outputs": [],
   "source": [
    "import space_shrinkage"
   ]
  },
  {
   "cell_type": "code",
   "execution_count": null,
   "metadata": {},
   "outputs": [],
   "source": [
    "space_shrinkage.illustration_2d(shrink_flag=False)\n",
    "    illustration_2d(shrink_flag=True)\n",
    "\n",
    "    illustration_3d(shrink_flag=False)\n",
    "    illustration_3d(shrink_flag=True)"
   ]
  }
 ],
 "metadata": {
  "kernelspec": {
   "display_name": "Python 3.9.12 ('base')",
   "language": "python",
   "name": "python3"
  },
  "language_info": {
   "codemirror_mode": {
    "name": "ipython",
    "version": 3
   },
   "file_extension": ".py",
   "mimetype": "text/x-python",
   "name": "python",
   "nbconvert_exporter": "python",
   "pygments_lexer": "ipython3",
   "version": "3.9.12"
  },
  "orig_nbformat": 4,
  "vscode": {
   "interpreter": {
    "hash": "5933fdd4939b7b585a08d9659bda75beda194da3b41799b3572471763d65d53b"
   }
  }
 },
 "nbformat": 4,
 "nbformat_minor": 2
}
