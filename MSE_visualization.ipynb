{
 "cells": [
  {
   "cell_type": "code",
   "execution_count": 1,
   "metadata": {},
   "outputs": [],
   "source": [
    "import numpy as np"
   ]
  },
  {
   "cell_type": "code",
   "execution_count": 75,
   "metadata": {},
   "outputs": [],
   "source": [
    "def JS_estimator(x):\n",
    "    \"\"\"\n",
    "    Return the estimation given by J-S estimator \n",
    "    \"\"\"\n",
    "    p = x.shape[0]\n",
    "    norm = np.dot(p, np.transpose(p))\n",
    "    return (1 - (p - 2) / norm) * x"
   ]
  },
  {
   "cell_type": "code",
   "execution_count": 76,
   "metadata": {},
   "outputs": [],
   "source": [
    "def natural_estimator(x):\n",
    "    \"\"\"\n",
    "    Return the estimation given by natural esitmator\n",
    "    \"\"\"\n",
    "    return x"
   ]
  },
  {
   "cell_type": "code",
   "execution_count": 88,
   "metadata": {},
   "outputs": [
    {
     "name": "stdout",
     "output_type": "stream",
     "text": [
      "3.077996098451385\n",
      "4.015495734114009\n"
     ]
    }
   ],
   "source": [
    "def sample_MSE(mu, estimator):\n",
    "    p = mu.shape[0]\n",
    "    sample_num = 10000\n",
    "    samples = np.zeros((p, sample_num))\n",
    "    dis = np.zeros(sample_num)\n",
    "\n",
    "    # take samples from normal distribution\n",
    "    for i in range(p):\n",
    "        sample_i = np.random.normal(loc=mu[i], scale=1.0, size=sample_num)\n",
    "        samples[i,:] = sample_i\n",
    "    \n",
    "    # Compute (f(X) - \\mu)^2\n",
    "    for i in range(sample_num):\n",
    "        dis_i = estimator(samples[:,i]) - mu\n",
    "        # print(np.dot(dis_i, np.transpose(dis_i)))\n",
    "        dis[i] = np.dot(dis_i, np.transpose(dis_i))\n",
    "    return np.mean(dis)\n",
    "        \n",
    "mu = np.array([0.02, 0.03, 0.02, 0.02])\n",
    "print(sample_MSE(mu, JS_estimator))\n",
    "print(sample_MSE(mu, natural_estimator))"
   ]
  },
  {
   "cell_type": "code",
   "execution_count": null,
   "metadata": {},
   "outputs": [],
   "source": []
  }
 ],
 "metadata": {
  "kernelspec": {
   "display_name": "Python 3.9.12 ('base')",
   "language": "python",
   "name": "python3"
  },
  "language_info": {
   "codemirror_mode": {
    "name": "ipython",
    "version": 3
   },
   "file_extension": ".py",
   "mimetype": "text/x-python",
   "name": "python",
   "nbconvert_exporter": "python",
   "pygments_lexer": "ipython3",
   "version": "3.9.12"
  },
  "orig_nbformat": 4,
  "vscode": {
   "interpreter": {
    "hash": "5933fdd4939b7b585a08d9659bda75beda194da3b41799b3572471763d65d53b"
   }
  }
 },
 "nbformat": 4,
 "nbformat_minor": 2
}
